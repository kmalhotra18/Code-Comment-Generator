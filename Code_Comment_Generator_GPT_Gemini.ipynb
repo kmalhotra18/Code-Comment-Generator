{
  "nbformat": 4,
  "nbformat_minor": 0,
  "metadata": {
    "colab": {
      "provenance": [],
      "authorship_tag": "ABX9TyMmn0WlXwaNtSOUesj70vtr",
      "include_colab_link": true
    },
    "kernelspec": {
      "name": "python3",
      "display_name": "Python 3"
    },
    "language_info": {
      "name": "python"
    }
  },
  "cells": [
    {
      "cell_type": "markdown",
      "metadata": {
        "id": "view-in-github",
        "colab_type": "text"
      },
      "source": [
        "<a href=\"https://colab.research.google.com/github/kmalhotra18/Code-Comment-Generator/blob/main/Code_Comment_Generator_GPT_Gemini.ipynb\" target=\"_parent\"><img src=\"https://colab.research.google.com/assets/colab-badge.svg\" alt=\"Open In Colab\"/></a>"
      ]
    },
    {
      "cell_type": "code",
      "execution_count": null,
      "metadata": {
        "id": "j0hO8S_dfqbU"
      },
      "outputs": [],
      "source": [
        "!pip install -q OpenAI\n",
        "!pip install -q google-generativeai\n",
        "!pip install -q python-dotenv\n",
        "!pip install -q anthropic\n",
        "!pip install -q gradio"
      ]
    },
    {
      "cell_type": "code",
      "source": [
        "# Sign in to OpenAI using Secrets in Colab\n",
        "\n",
        "import os\n",
        "from openai import OpenAI\n",
        "\n",
        "# Get the API key from the environment variable\n",
        "openai_api_key = os.getenv('OPENAI_API_KEY')\n",
        "GEMINI_API_KEY = os.getenv(\"GEMINI_API_KEY\")\n",
        "\n",
        "# If the API key is not found in the environment variable,\n",
        "# try getting it from a .env file (if you're using one)\n",
        "if openai_api_key is None:\n",
        "    from dotenv import load_dotenv\n",
        "    load_dotenv()\n",
        "    openai_api_key = os.getenv('OPENAI_API_KEY')\n",
        "\n",
        "# If the API key is still None, raise an error\n",
        "if openai_api_key is None:\n",
        "    raise ValueError(\"OPENAI_API_KEY environment variable not set. Please set it or create a .env file with the key.\")\n",
        "\n",
        "if not GEMINI_API_KEY:\n",
        "    raise ValueError(\"⚠️ Gemini API key not loaded. Please check your .env or environment setup.\")\n",
        "\n",
        "# Initialize the OpenAI client with the API key\n",
        "openai = OpenAI(api_key=openai_api_key)"
      ],
      "metadata": {
        "id": "R_qI6Nm-fsQx"
      },
      "execution_count": null,
      "outputs": []
    },
    {
      "cell_type": "code",
      "source": [
        "from openai import OpenAI\n",
        "import google.generativeai as genai\n",
        "import os # Import the os module\n",
        "\n",
        "# Set up clients\n",
        "openai_client = OpenAI(api_key=os.getenv('OPENAI_API_KEY')) # Use os.getenv to get the API key\n",
        "genai.configure(api_key=os.getenv('GEMINI_API_KEY')) # Use os.getenv to get the API key\n",
        "genai.configure(api_key=GEMINI_API_KEY)\n",
        "\n",
        "def generate_with_openai(code):\n",
        "    prompt = (\n",
        "        \"You're a helpful assistant that comments Python code. \"\n",
        "        \"Given any raw Python code, return the same code with meaningful docstrings and inline comments. \"\n",
        "        \"Preserve formatting. Only return the modified code.\"\n",
        "    )\n",
        "\n",
        "    response = openai_client.chat.completions.create(\n",
        "        model=\"gpt-4o\",\n",
        "        messages=[\n",
        "            {\"role\": \"system\", \"content\": prompt},\n",
        "            {\"role\": \"user\", \"content\": code}\n",
        "        ],\n",
        "        temperature=0.3\n",
        "    )\n",
        "\n",
        "    return response.choices[0].message.content\n",
        "\n",
        "\n",
        "def generate_with_gemini(code):\n",
        "    model = genai.GenerativeModel(\"gemini-2.0-flash\")\n",
        "\n",
        "    prompt = (\n",
        "        \"You're a helpful assistant that comments Python code. \"\n",
        "        \"Given the following code, add meaningful docstrings and inline comments. \"\n",
        "        \"Return the improved code with formatting preserved:\\n\\n\" + code\n",
        "    )\n",
        "\n",
        "    response = model.generate_content(prompt)\n",
        "    return response.text.strip()"
      ],
      "metadata": {
        "id": "z8lCBItifsN7"
      },
      "execution_count": null,
      "outputs": []
    },
    {
      "cell_type": "code",
      "source": [
        "def generate_comments(code, model_choice):\n",
        "    if not code.strip():\n",
        "        return \"⚠️ Please paste code or upload a file first.\"\n",
        "\n",
        "    if model_choice == \"OpenAI (GPT-4o)\":\n",
        "        return generate_with_openai(code)\n",
        "    elif model_choice == \"Gemini (Google)\":\n",
        "        return generate_with_gemini(code)\n",
        "    else:\n",
        "        return \"❌ Invalid model selected.\"\n"
      ],
      "metadata": {
        "id": "uVsum8J7fsLH"
      },
      "execution_count": null,
      "outputs": []
    },
    {
      "cell_type": "code",
      "source": [
        "import gradio as gr\n",
        "\n",
        "with gr.Blocks(title=\"AI Code Comment Generator\") as app:\n",
        "    gr.Markdown(\"## 🧠 Add Docstrings & Inline Comments with GPT or Gemini\")\n",
        "\n",
        "    model_dropdown = gr.Dropdown(\n",
        "        choices=[\"OpenAI (GPT-4o)\", \"Gemini (Google)\"],\n",
        "        label=\"Select LLM\",\n",
        "        value=\"OpenAI (GPT-4o)\"\n",
        "    )\n",
        "\n",
        "    with gr.Tab(\"📋 Paste Code\"):\n",
        "        code_input = gr.Code(label=\"Paste Python Code\", language=\"python\")\n",
        "\n",
        "    with gr.Tab(\"📁 Upload File\"):\n",
        "        file_input = gr.File(label=\"Upload a .py File\", file_types=[\".py\"])\n",
        "\n",
        "    output = gr.Code(label=\"📄 Commented Code\", language=\"python\")\n",
        "    run_button = gr.Button(\"✨ Generate Comments\")\n",
        "\n",
        "    def process_input(code, file, model_choice):\n",
        "        if file is not None and not code:\n",
        "            code = file.read().decode(\"utf-8\")\n",
        "        return generate_comments(code, model_choice)\n",
        "\n",
        "    run_button.click(\n",
        "        fn=process_input,\n",
        "        inputs=[code_input, file_input, model_dropdown],\n",
        "        outputs=output\n",
        "    )\n",
        "\n",
        "app.launch()\n"
      ],
      "metadata": {
        "id": "2vPMtxgVfsIc"
      },
      "execution_count": null,
      "outputs": []
    },
    {
      "cell_type": "code",
      "source": [
        "import google.generativeai as genai\n",
        "genai.configure(api_key=GEMINI_API_KEY)\n",
        "\n",
        "model = genai.GenerativeModel(\"gemini-pro\")\n",
        "response = model.generate_content(\"Add comments to:\\n\\ndef add(x, y): return x + y\")\n",
        "print(response.text)"
      ],
      "metadata": {
        "id": "rY3eNK5_f2X6"
      },
      "execution_count": null,
      "outputs": []
    }
  ]
}